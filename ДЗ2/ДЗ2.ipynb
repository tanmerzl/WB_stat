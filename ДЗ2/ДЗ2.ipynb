{
 "cells": [
  {
   "cell_type": "code",
   "execution_count": 1,
   "metadata": {},
   "outputs": [],
   "source": [
    "import numpy as np\n",
    "from scipy import stats\n",
    "import seaborn as sns\n",
    "from scipy.stats import shapiro"
   ]
  },
  {
   "cell_type": "markdown",
   "metadata": {},
   "source": [
    "# Задача 1\n",
    "Из партии батареек с номинальным напряжением 12 В наугад выбрано семь штук. Согласно показаниям высокоточного вольтметра, фактически выдаваемое ими напряжение составило: 12,9; 11,6; 13,5; 13,9; 12,1; 11,9; 13,0 В соответственно. Можно ли считать, что среднее напряжение действительно равно 12 В?\n",
    "\n",
    "\n",
    "Предполается, что $E[X_i]=\\mu$\n",
    "\n",
    "\n",
    "$H_0: \\mu = \\mu_0$\n",
    "\n",
    "\n",
    "$H_A: \\mu \\neq \\mu_0$\n",
    "\n",
    "Воспользуемся критерием Стьюдента. "
   ]
  },
  {
   "cell_type": "code",
   "execution_count": 2,
   "metadata": {},
   "outputs": [],
   "source": [
    "sample = np.array([12.9, 11.6, 13.5, 13.9, 12.1, 11.9, 13.0])\n",
    "mu0 = 12"
   ]
  },
  {
   "cell_type": "markdown",
   "metadata": {},
   "source": [
    "Здесь и далее нулевая и альтернативная гипотезы для критерия Шапиро\n",
    "\n",
    "\n",
    "$H_0$: Данные имеют нормальное распределение.\n",
    "\n",
    "\n",
    "$H_A:$ Данные не имеют нормального распределения."
   ]
  },
  {
   "cell_type": "code",
   "execution_count": 3,
   "metadata": {},
   "outputs": [
    {
     "data": {
      "text/plain": [
       "ShapiroResult(statistic=0.9461530447006226, pvalue=0.6946031451225281)"
      ]
     },
     "execution_count": 3,
     "metadata": {},
     "output_type": "execute_result"
    }
   ],
   "source": [
    "shapiro(sample)"
   ]
  },
  {
   "cell_type": "markdown",
   "metadata": {},
   "source": [
    "$p>0.05$, у нас недостаточно оснований отвергнуть нулевую гипотезу о том, что выборка не имеет значимые отклонения от нормального распределения."
   ]
  },
  {
   "cell_type": "code",
   "execution_count": 4,
   "metadata": {},
   "outputs": [
    {
     "name": "stdout",
     "output_type": "stream",
     "text": [
      "Statistic T:  2.1578017974978794 , p-value:  0.07430190210562303\n"
     ]
    }
   ],
   "source": [
    "# вручную\n",
    "df = len(sample)-1\n",
    "student = stats.t(df)\n",
    "T = (df)**0.5*(sample.mean() - mu0)/sample.std()\n",
    "P = student.sf(T)*2 # Удвоение для двустороннего теста\n",
    "print(\"Statistic T: \", T, \", p-value: \", P)"
   ]
  },
  {
   "cell_type": "code",
   "execution_count": 5,
   "metadata": {},
   "outputs": [
    {
     "data": {
      "text/plain": [
       "TtestResult(statistic=2.1578017974978794, pvalue=0.07430190210562303, df=6)"
      ]
     },
     "execution_count": 5,
     "metadata": {},
     "output_type": "execute_result"
    }
   ],
   "source": [
    "# scipy \n",
    "stats.ttest_1samp(sample, mu0)"
   ]
  },
  {
   "cell_type": "markdown",
   "metadata": {},
   "source": [
    "t-статистика: $t=2.16$, p-значение: $p=0.074$\n",
    "\n",
    "$p>\\alpha$ на уровне значимости $\\alpha=0.05$ . Это означает, что у нас недостаточно оснований, чтобы отвергнуть нулевую гипотезу о том, что среднее напряжение действительно равно 12 В. "
   ]
  },
  {
   "attachments": {
    "image.png": {
     "image/png": "[encoded data removed]"
    }
   },
   "cell_type": "markdown",
   "metadata": {},
   "source": [
    "# Задача 2\n",
    "Есть два различных метода определения процентного содержания жира в мясе. Доля жира для 10 образцов мяса была определена каждым из двух методов. Позволяют ли полученные результаты сделать вывод о том, что один метод даёт в среднем более высокие показания, чем другой?\n",
    "![image.png](attachment:image.png)"
   ]
  },
  {
   "cell_type": "markdown",
   "metadata": {},
   "source": [
    "$D_i = X_i-Y_i$\n",
    "\n",
    "\n",
    "$H_0$: $\\bar{D} = 0$, cредняя разница между методами равна 0.\n",
    "\n",
    "\n",
    "$H_A$: $\\bar{D} \\neq 0$, cредняя разница между методами не равна 0."
   ]
  },
  {
   "cell_type": "code",
   "execution_count": 6,
   "metadata": {},
   "outputs": [
    {
     "data": {
      "text/plain": [
       "array([ 0.4, -0.4, -0.6, -0.8, -0.3,  1.5,  0.1,  0.1,  0.3, -0.3])"
      ]
     },
     "execution_count": 6,
     "metadata": {},
     "output_type": "execute_result"
    }
   ],
   "source": [
    "method_1 = np.array([23.1, 23.2, 26.5, 26.6, 27.1, 48.3, 40.5, 25.0, 38.4, 23.5])\n",
    "method_2 = np.array([22.7, 23.6, 27.1, 27.4, 27.4, 46.8, 40.4, 24.9, 38.1, 23.8])\n",
    "\n",
    "d_methods = method_1 - method_2\n",
    "d_methods"
   ]
  },
  {
   "cell_type": "code",
   "execution_count": 7,
   "metadata": {},
   "outputs": [
    {
     "data": {
      "text/plain": [
       "ShapiroResult(statistic=0.8998485803604126, pvalue=0.21825909614562988)"
      ]
     },
     "execution_count": 7,
     "metadata": {},
     "output_type": "execute_result"
    }
   ],
   "source": [
    "shapiro(d_methods)"
   ]
  },
  {
   "cell_type": "code",
   "execution_count": 8,
   "metadata": {},
   "outputs": [],
   "source": [
    "mu0 = 0 "
   ]
  },
  {
   "cell_type": "code",
   "execution_count": 9,
   "metadata": {},
   "outputs": [
    {
     "name": "stdout",
     "output_type": "stream",
     "text": [
      "Statistic T:  1.715488497867803e-15 , p-value:  0.9999999999999987\n"
     ]
    },
    {
     "data": {
      "text/plain": [
       "TtestResult(statistic=1.7154884978678027e-15, pvalue=0.9999999999999987, df=9)"
      ]
     },
     "execution_count": 9,
     "metadata": {},
     "output_type": "execute_result"
    }
   ],
   "source": [
    "# вручную\n",
    "df = len(d_methods)-1\n",
    "student = stats.t(df)\n",
    "T = (df)**0.5*(d_methods.mean() - mu0)/d_methods.std()\n",
    "P = student.sf(T)*2 # Удвоение для двустороннего теста\n",
    "print(\"Statistic T: \", T, \", p-value: \", P)\n",
    "# scipy \n",
    "stats.ttest_1samp(d_methods, mu0)"
   ]
  },
  {
   "cell_type": "markdown",
   "metadata": {},
   "source": [
    "$p>\\alpha$ на уровне значимости $\\alpha=0.05$ . Это означает, что у нас недостаточно оснований, чтобы отвергнуть нулевую гипотезу о том, что средние значения результатов двух методов не различаются. "
   ]
  },
  {
   "cell_type": "markdown",
   "metadata": {},
   "source": [
    "# Задача 3\n",
    "Для проверки гипотезы о том, что жители городов имеют в среднем более высокое систолическое артериальное давление, чем жители сельской местности, было проведено обследование 10 горожан и 9 жителей села примерно одного возраста. Получены следующие данные об уровне давления для горожан: 132, 111, 119, 138, 200, 131, 138, 170, 159, 140; для селян: 115, 190, 127, 155, 148, 121, 116, 121, 197. Можно ли считать верной выдвинутую гипотезу на уровне значимости 0,05?"
   ]
  },
  {
   "cell_type": "code",
   "execution_count": 10,
   "metadata": {},
   "outputs": [],
   "source": [
    "urban = np.array([132, 111, 119, 138, 200, 131, 138, 170, 159, 140])\n",
    "rural = np.array([115, 190, 127, 155, 148, 121, 116, 121, 197])"
   ]
  },
  {
   "cell_type": "code",
   "execution_count": 11,
   "metadata": {},
   "outputs": [
    {
     "data": {
      "text/plain": [
       "ShapiroResult(statistic=0.9100654125213623, pvalue=0.2814405560493469)"
      ]
     },
     "execution_count": 11,
     "metadata": {},
     "output_type": "execute_result"
    }
   ],
   "source": [
    "shapiro(urban)"
   ]
  },
  {
   "cell_type": "markdown",
   "metadata": {},
   "source": [
    "$p>0.05$, поэтому мы не отвергаем нулевую гипотезу."
   ]
  },
  {
   "cell_type": "code",
   "execution_count": 12,
   "metadata": {},
   "outputs": [
    {
     "data": {
      "text/plain": [
       "ShapiroResult(statistic=0.828664243221283, pvalue=0.043139804154634476)"
      ]
     },
     "execution_count": 12,
     "metadata": {},
     "output_type": "execute_result"
    }
   ],
   "source": [
    "shapiro(rural)"
   ]
  },
  {
   "cell_type": "markdown",
   "metadata": {},
   "source": [
    "$p<0.05$, поэтому мы **отвергаем** нулевую гипотезу. Данные для селян не распределены нормально на уровне значимости 0.05."
   ]
  },
  {
   "cell_type": "markdown",
   "metadata": {},
   "source": [
    "Проверим гипотезу о сдвиге средних с помощью критерия Манна-Уитни"
   ]
  },
  {
   "cell_type": "code",
   "execution_count": 13,
   "metadata": {},
   "outputs": [
    {
     "data": {
      "text/plain": [
       "MannwhitneyuResult(statistic=50.0, pvalue=0.3565312487796153)"
      ]
     },
     "execution_count": 13,
     "metadata": {},
     "output_type": "execute_result"
    }
   ],
   "source": [
    "stats.mannwhitneyu(urban, rural, alternative='greater')"
   ]
  },
  {
   "cell_type": "markdown",
   "metadata": {},
   "source": [
    "$p>\\alpha$: Мы не отвергаем нулевую гипотезу. На уровне значимости $\\alpha=0.05$ у нас недостаточно оснований, чтобы утверждать, что горожане имеют в среднем более высокое систолическое давление, чем селяне."
   ]
  },
  {
   "cell_type": "markdown",
   "metadata": {},
   "source": [
    "# Задача 4\n",
    "Известно, что 52% новорождённых детей — мальчики, а 48% — девочки. В случайной выборке из 5 000 человек в возрасте от 30 до 60 лет мужчин оказалось 2 500. Можно ли на уровне значимости 0,05 считать, основываясь на этих данных, что смертность среди мужчин и женщин одинакова?"
   ]
  },
  {
   "cell_type": "markdown",
   "metadata": {},
   "source": [
    "$H_0: p=p_0$. Доля мужчин в первой и второй выборке одинакова, следовательно, смертность среди мужчин и женщин одинакова.\n",
    "\n",
    "\n",
    "$H_A:p\\neq p_0$. Доля мужчин в первой и второй выборке отличаются, следовательно, смертность среди мужчин и женщин различается.\n",
    "\n",
    "В нашем случае $p_0=0.52$"
   ]
  },
  {
   "cell_type": "code",
   "execution_count": 14,
   "metadata": {},
   "outputs": [
    {
     "name": "stdout",
     "output_type": "stream",
     "text": [
      "Statistic:  2.0004001200400157 , p-value:  0.0454570754450172\n"
     ]
    }
   ],
   "source": [
    "n1 = 5000\n",
    "m1 = 0.52 * n1\n",
    "\n",
    "n2 = 5000\n",
    "m2 = 2500\n",
    "T = (m1/n1 - m2/n2)/((m1+m2)/(n1+n2)*(1 - (m1+m2)/(n1+n2))*(1/n1 + 1/n2))**0.5\n",
    "P = (1 - stats.norm.cdf(T))*2 # Удвоение для двухстороннего теста\n",
    "print(\"Statistic: \",T,\", p-value: \",P)"
   ]
  },
  {
   "cell_type": "markdown",
   "metadata": {},
   "source": [
    "$p<\\alpha$: Мы отвергаем нулевую гипотезу. На уровне значимости $\\alpha=0.05$ существует статистически значимое различие в смертности между мужчинами и женщинами в возрасте от 30 до 60 лет."
   ]
  },
  {
   "cell_type": "markdown",
   "metadata": {},
   "source": [
    "# Задача 5\n",
    "В первом эксперименте для сравнения двух средних X1=17, X2=16 применялся t-критерий Стьюдента, и эти различия оказались значимы (p = 0, 001).\n",
    "\n",
    "Во втором исследовании, также при помощи t - критерия, сравнивались два средних X1=17, X2=36, и эти различия не значимы при p = 0,8. В чем может быть причина таких результатов, при условии, что нулевая и альтернативная гипотезы в обоих случаях одинаковы?"
   ]
  },
  {
   "cell_type": "markdown",
   "metadata": {},
   "source": [
    "$T = \\frac{X_1-X_2}{\\sqrt{\\frac{S_1^2}{m} + \\frac{S_2^2}{n}}}$\n",
    "\n",
    "1. Размер выборки: Увеличение объема выборки повышает статистическую мощность теста, что позволяет более уверенно обнаруживать различия между средними значениями. \n",
    "2. Стандартное отклонение: Высокая вариативность данных увеличивает стандартную ошибку, снижая значение t-статистики и делая различия менее значимыми. Наличие выбросов также может существенно влиять на результаты анализа. \n",
    "3. Распределение данных: Отклонения от нормального распределения, особенно в небольших выборках, могут приводить к некорректным результатам t-теста."
   ]
  }
 ],
 "metadata": {
  "kernelspec": {
   "display_name": "Python 3",
   "language": "python",
   "name": "python3"
  },
  "language_info": {
   "codemirror_mode": {
    "name": "ipython",
    "version": 3
   },
   "file_extension": ".py",
   "mimetype": "text/x-python",
   "name": "python",
   "nbconvert_exporter": "python",
   "pygments_lexer": "ipython3",
   "version": "3.11.9"
  }
 },
 "nbformat": 4,
 "nbformat_minor": 2
}
